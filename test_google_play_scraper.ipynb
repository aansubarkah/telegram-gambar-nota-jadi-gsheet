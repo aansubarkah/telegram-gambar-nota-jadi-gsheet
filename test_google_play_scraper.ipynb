{
 "cells": [
  {
   "cell_type": "code",
   "execution_count": 7,
   "metadata": {
    "cellUniqueIdByVincent": "3f9df"
   },
   "outputs": [],
   "source": [
    "from google_play_scraper import app, Sort, reviews, reviews_all"
   ]
  },
  {
   "cell_type": "code",
   "execution_count": 10,
   "metadata": {
    "cellUniqueIdByVincent": "9762e"
   },
   "outputs": [],
   "source": [
    "result, continuation_token = reviews('com.mobileappruparupa',  # Language to use for strings\n",
    "           country='id',\n",
    "           sort=Sort.NEWEST,\n",
    "           count=10,\n",
    "           filter_score_with=5)  # Country to use for prices and reviews)"
   ]
  },
  {
   "cell_type": "code",
   "execution_count": 11,
   "metadata": {
    "cellUniqueIdByVincent": "e4a7b"
   },
   "outputs": [
    {
     "data": {
      "text/plain": [
       "[{'reviewId': 'dc62b536-503a-4d60-9744-25f4ec6931e9',\n",
       "  'userName': 'Winter Frosty',\n",
       "  'userImage': 'https://play-lh.googleusercontent.com/a/ACg8ocKbFcZWOsAYpnby8WaoSE1O7WG6PZlAkz9guI-XgK6Y2aWSCg=mo',\n",
       "  'content': 'good apps',\n",
       "  'score': 5,\n",
       "  'thumbsUpCount': 0,\n",
       "  'reviewCreatedVersion': '3.9.13',\n",
       "  'at': datetime.datetime(2025, 6, 4, 16, 33, 30),\n",
       "  'replyContent': None,\n",
       "  'repliedAt': None,\n",
       "  'appVersion': '3.9.13'},\n",
       " {'reviewId': '78742731-3afd-47ff-b501-591ea7d445c3',\n",
       "  'userName': 'Tazki GC',\n",
       "  'userImage': 'https://play-lh.googleusercontent.com/a-/ALV-UjW81O368jp9X19L2unYu4qmFYBKKJgMe-aH3QBfVeC9iwTQaNk',\n",
       "  'content': 'Menu ulasan nya error. Gak respon. Selain itu OK',\n",
       "  'score': 5,\n",
       "  'thumbsUpCount': 0,\n",
       "  'reviewCreatedVersion': '3.9.13',\n",
       "  'at': datetime.datetime(2025, 6, 4, 11, 57, 34),\n",
       "  'replyContent': None,\n",
       "  'repliedAt': None,\n",
       "  'appVersion': '3.9.13'},\n",
       " {'reviewId': 'dc3fda7d-f9df-4ffc-9986-02aea494088d',\n",
       "  'userName': 'Karim Jonosisworo',\n",
       "  'userImage': 'https://play-lh.googleusercontent.com/a-/ALV-UjV7v6fylA0LQkbOCW94X8OTX0CrQc-SW0D5iyIlQOX3n4xTvSTskQ',\n",
       "  'content': 'app online shopping terbaik dan mudah digunakan',\n",
       "  'score': 5,\n",
       "  'thumbsUpCount': 0,\n",
       "  'reviewCreatedVersion': '3.9.12',\n",
       "  'at': datetime.datetime(2025, 5, 31, 14, 53, 58),\n",
       "  'replyContent': None,\n",
       "  'repliedAt': None,\n",
       "  'appVersion': '3.9.12'},\n",
       " {'reviewId': 'c7dc7354-46e9-4d89-928d-466cbab30f86',\n",
       "  'userName': 'Afra Hollia',\n",
       "  'userImage': 'https://play-lh.googleusercontent.com/a-/ALV-UjVftf38OOxwpyhQ_iEWS7WP_m3u5LsLLHridgrKnC6hKDyQnT4K',\n",
       "  'content': 'good choice for online shopping',\n",
       "  'score': 5,\n",
       "  'thumbsUpCount': 0,\n",
       "  'reviewCreatedVersion': '3.9.12',\n",
       "  'at': datetime.datetime(2025, 5, 30, 7, 29, 5),\n",
       "  'replyContent': None,\n",
       "  'repliedAt': None,\n",
       "  'appVersion': '3.9.12'},\n",
       " {'reviewId': '44f548b0-1c0b-46bf-86ab-cd1779de53b9',\n",
       "  'userName': 'Yohanes',\n",
       "  'userImage': 'https://play-lh.googleusercontent.com/a-/ALV-UjWzvcqM_45UgXHcSBdHiENAttMJpk6DnewhadNV4Y__1gcFitGB',\n",
       "  'content': 'good',\n",
       "  'score': 5,\n",
       "  'thumbsUpCount': 0,\n",
       "  'reviewCreatedVersion': '3.9.12',\n",
       "  'at': datetime.datetime(2025, 5, 29, 19, 5, 26),\n",
       "  'replyContent': None,\n",
       "  'repliedAt': None,\n",
       "  'appVersion': '3.9.12'},\n",
       " {'reviewId': '28678594-d991-490e-92c2-7c74fc7459c5',\n",
       "  'userName': 'nany surjadi',\n",
       "  'userImage': 'https://play-lh.googleusercontent.com/a/ACg8ocJGyaVdek1HYBGjtyPblxYPN6pK_5m-JZjLZhEziIRS_ab9CA=mo',\n",
       "  'content': 'pengirimannya tepat waktu dan kondisi barang bagus 👍',\n",
       "  'score': 5,\n",
       "  'thumbsUpCount': 0,\n",
       "  'reviewCreatedVersion': '3.9.12',\n",
       "  'at': datetime.datetime(2025, 5, 26, 20, 22, 33),\n",
       "  'replyContent': None,\n",
       "  'repliedAt': None,\n",
       "  'appVersion': '3.9.12'},\n",
       " {'reviewId': '4dac7443-6f71-4620-a0fc-f6f141be723e',\n",
       "  'userName': 'rendy praditya',\n",
       "  'userImage': 'https://play-lh.googleusercontent.com/a-/ALV-UjWIHB3DWlj9PJ5wDGr0Iu1vpbrT6kbn1a2XdpQY40YvdXrCpvO1',\n",
       "  'content': 'Ntaps.',\n",
       "  'score': 5,\n",
       "  'thumbsUpCount': 0,\n",
       "  'reviewCreatedVersion': '3.9.12',\n",
       "  'at': datetime.datetime(2025, 5, 25, 16, 30, 35),\n",
       "  'replyContent': None,\n",
       "  'repliedAt': None,\n",
       "  'appVersion': '3.9.12'},\n",
       " {'reviewId': 'f365b502-db03-48a9-b3bb-50363ceded30',\n",
       "  'userName': 'ahmad hidayat',\n",
       "  'userImage': 'https://play-lh.googleusercontent.com/a/ACg8ocKcAj9sCa3EqWGO66fWO1VKd2YcA380KuCWPYtUpUkAcN4RAA=mo',\n",
       "  'content': 'conveniens shop',\n",
       "  'score': 5,\n",
       "  'thumbsUpCount': 0,\n",
       "  'reviewCreatedVersion': '3.9.12',\n",
       "  'at': datetime.datetime(2025, 5, 22, 21, 33, 17),\n",
       "  'replyContent': None,\n",
       "  'repliedAt': None,\n",
       "  'appVersion': '3.9.12'},\n",
       " {'reviewId': 'a6de5405-454f-4a3a-ba51-2b01a90ccccf',\n",
       "  'userName': 'Rumah Pintar Blessing Generation',\n",
       "  'userImage': 'https://play-lh.googleusercontent.com/a-/ALV-UjV71iaW74IHczzaVXUzyETcgRbpr64aZgmU50T_PCArz-HrnXM',\n",
       "  'content': 'nice',\n",
       "  'score': 5,\n",
       "  'thumbsUpCount': 0,\n",
       "  'reviewCreatedVersion': '3.9.12',\n",
       "  'at': datetime.datetime(2025, 5, 22, 15, 39, 36),\n",
       "  'replyContent': None,\n",
       "  'repliedAt': None,\n",
       "  'appVersion': '3.9.12'},\n",
       " {'reviewId': 'c59772ec-29da-40c6-bb0e-68c445816557',\n",
       "  'userName': 'Prasz Trujillo',\n",
       "  'userImage': 'https://play-lh.googleusercontent.com/a-/ALV-UjXYgRDGvbn5ora7Pj2Iv8t6Ih5E8hfB7sRt5s5jU30nIUJW2y79Zg',\n",
       "  'content': 'good',\n",
       "  'score': 5,\n",
       "  'thumbsUpCount': 0,\n",
       "  'reviewCreatedVersion': '3.9.12',\n",
       "  'at': datetime.datetime(2025, 5, 5, 10, 42, 24),\n",
       "  'replyContent': None,\n",
       "  'repliedAt': None,\n",
       "  'appVersion': '3.9.12'}]"
      ]
     },
     "execution_count": 11,
     "metadata": {},
     "output_type": "execute_result"
    }
   ],
   "source": [
    "result"
   ]
  },
  {
   "cell_type": "code",
   "execution_count": 6,
   "metadata": {
    "cellUniqueIdByVincent": "48600"
   },
   "outputs": [
    {
     "data": {
      "text/plain": [
       "{'title': 'ruparupa',\n",
       " 'description': 'ruparupa merupakan official partner dari AZKO, INFORMA, INFORMA Electronics, Krisbow, Toys Kingdom, dan business unit Kawan Lama Group lainnya. Temukan berbagai produk lengkap dan berkualitas untuk kebutuhan rumah, hobi, dan gaya hidupmu dalam satu aplikasi.\\r\\n\\r\\nruparupa rewards\\r\\n\\r\\nGabung sekarang dan dapatkan Koin untuk transaksi online dan di toko Official Partner yang berpartisipasi.\\r\\n\\r\\n\\r\\nruparupa share & earn\\r\\n\\r\\nDapatkan komisi hingga jutaan hanya dengan bagikan link produk di media sosial kamu.\\r\\n\\r\\n\\r\\nTantangan Seru\\r\\n\\r\\nKini kamu bisa ikutan berbagai tantangan seru dan dapatkan voucher belanja spesial jika berhasil selesaikan tantangan.\\r\\n\\r\\n\\r\\nScan & Shop\\r\\n\\r\\nBelanja di toko tapi antrean panjang? Pakai Scan & Shop aja! Scan barcode produk, check out di aplikasi, langsung bawa pulang barangnya.\\r\\n\\r\\n\\r\\nAmbil di Toko\\r\\n\\r\\nButuh barang cepat? Kamu bisa pilih metode \"Ambil di Toko\" untuk ambil pesananmu di toko terdekat.\\r\\n\\r\\n\\r\\nDownload aplikasi ruparupa sekarang dan rasakan pengalaman belanja kebutuhan terlengkap dan tepercaya hanya dalam satu genggaman!\\r\\n\\r\\n\\r\\nButuh bantuan? Tim ruparupa care dengan senang hati membantu kamu di help@ruparupa.com',\n",
       " 'descriptionHTML': 'ruparupa merupakan official partner dari AZKO, INFORMA, INFORMA Electronics, Krisbow, Toys Kingdom, dan business unit Kawan Lama Group lainnya. Temukan berbagai produk lengkap dan berkualitas untuk kebutuhan rumah, hobi, dan gaya hidupmu dalam satu aplikasi.<br><br>ruparupa rewards<br><br>Gabung sekarang dan dapatkan Koin untuk transaksi online dan di toko Official Partner yang berpartisipasi.<br><br><br>ruparupa share &amp; earn<br><br>Dapatkan komisi hingga jutaan hanya dengan bagikan link produk di media sosial kamu.<br><br><br>Tantangan Seru<br><br>Kini kamu bisa ikutan berbagai tantangan seru dan dapatkan voucher belanja spesial jika berhasil selesaikan tantangan.<br><br><br>Scan &amp; Shop<br><br>Belanja di toko tapi antrean panjang? Pakai Scan &amp; Shop aja! Scan barcode produk, check out di aplikasi, langsung bawa pulang barangnya.<br><br><br>Ambil di Toko<br><br>Butuh barang cepat? Kamu bisa pilih metode &quot;Ambil di Toko&quot; untuk ambil pesananmu di toko terdekat.<br><br><br>Download aplikasi ruparupa sekarang dan rasakan pengalaman belanja kebutuhan terlengkap dan tepercaya hanya dalam satu genggaman!<br><br><br>Butuh bantuan? Tim ruparupa care dengan senang hati membantu kamu di help@ruparupa.com',\n",
       " 'summary': 'Official partner of AZKO, INFORMA, Krisbow, Toys Kingdom, SELMA, and ATARU.',\n",
       " 'installs': '1.000.000+',\n",
       " 'minInstalls': 1000000,\n",
       " 'realInstalls': 3269411,\n",
       " 'score': 4.8490906,\n",
       " 'ratings': 39101,\n",
       " 'reviews': 3952,\n",
       " 'histogram': [791, 269, 350, 1221, 36466],\n",
       " 'price': 0,\n",
       " 'free': True,\n",
       " 'currency': 'IDR',\n",
       " 'sale': False,\n",
       " 'saleTime': None,\n",
       " 'originalPrice': None,\n",
       " 'saleText': None,\n",
       " 'offersIAP': False,\n",
       " 'inAppProductPrice': None,\n",
       " 'developer': 'Omni Digitama Internusa, PT',\n",
       " 'developerId': 'Omni+Digitama+Internusa,+PT',\n",
       " 'developerEmail': 'help@ruparupa.com',\n",
       " 'developerWebsite': 'https://www.ruparupa.com',\n",
       " 'developerAddress': None,\n",
       " 'privacyPolicy': 'https://www.ruparupa.com/page/privacy-policy',\n",
       " 'genre': 'Belanja',\n",
       " 'genreId': 'SHOPPING',\n",
       " 'categories': [{'name': 'Belanja', 'id': 'SHOPPING'}],\n",
       " 'icon': 'https://play-lh.googleusercontent.com/HdyG3DgjAZPpq8Nh8NFEnOnfi_NOAWnzzzwQye9X6iIQwDjBh53uepJP-XrMDwBh7g',\n",
       " 'headerImage': 'https://play-lh.googleusercontent.com/0LSJyWhcYxF6D0APWep5VN5-bV7qwJjWWN2oAKa8uyFdfce6ODWrwvmkGZQOgTG26Ro',\n",
       " 'screenshots': ['https://play-lh.googleusercontent.com/jk2sXAz6Au302XnCPToi4-9WssIw_d7cCH7ZWcozx49U4d1SSQqod8tzmOCFEFAAnFpt',\n",
       "  'https://play-lh.googleusercontent.com/mD1NBoojHo6HSNIF_16ZnPgpt3x7o8o0GRx8-ZIC6iJo5HlD5uuPp1qGTlSmnlQLrWI',\n",
       "  'https://play-lh.googleusercontent.com/FxWY98c2HrO5Y8JrRHQcDioVPbfVrpxkWW3tJNRCXtMFO-XY-_tddx6mSZvLNC-SR7ha',\n",
       "  'https://play-lh.googleusercontent.com/rl6SnO90I22s3IP2b7fj_LZ4SlClRTpfoHqmMwddIoJD1yvG2lQC96LbEOj3io0aqZHu',\n",
       "  'https://play-lh.googleusercontent.com/MEE2grWtKxBae4iyKcz8WwZ90L189-CuhbJK_6v-Zf02a8TYNyf_AT9A6YPpFtNAJMg'],\n",
       " 'video': None,\n",
       " 'videoImage': None,\n",
       " 'contentRating': 'Rating 3+',\n",
       " 'contentRatingDescription': None,\n",
       " 'adSupported': False,\n",
       " 'containsAds': False,\n",
       " 'released': '22 Apr 2019',\n",
       " 'lastUpdatedOn': '28 Mei 2025',\n",
       " 'updated': 1748422359,\n",
       " 'version': '3.9.13',\n",
       " 'comments': [],\n",
       " 'appId': 'com.mobileappruparupa',\n",
       " 'url': 'https://play.google.com/store/apps/details?id=com.mobileappruparupa&hl=id&gl=id'}"
      ]
     },
     "execution_count": 6,
     "metadata": {},
     "output_type": "execute_result"
    }
   ],
   "source": [
    "result"
   ]
  },
  {
   "cell_type": "code",
   "execution_count": 2,
   "metadata": {
    "cellUniqueIdByVincent": "5e4eb"
   },
   "outputs": [],
   "source": [
    "result = app('com.google.android.apps.messaging',\n",
    "              lang='en',  # defaults to 'en', optional\n",
    "              country='us')  # defaults to 'us', optional"
   ]
  },
  {
   "cell_type": "code",
   "execution_count": 3,
   "metadata": {
    "cellUniqueIdByVincent": "f5284"
   },
   "outputs": [
    {
     "data": {
      "text/plain": [
       "{'title': 'Google Messages',\n",
       " 'description': \"Google Messages is the official Google app for messaging. Google Messages is revolutionizing how a billion users connect and is powered by Rich Communication Services (RCS), the industry standard for texting that replaces SMS and MMS. With RCS, you can share high resolution photos and videos, enjoy dynamic group chats, and seamlessly connect with other RCS users including your iPhone friends. \\r\\n\\r\\n        •        Rich Communication: Share high-quality photos and videos, see when friends are typing, and enjoy dynamic group chats that now seamlessly include your iPhone friends.\\r\\n        •        Personal Touch: Make conversations uniquely yours with features like custom chat bubble colors or fun selfie gifs. \\r\\n        •        Privacy Matters: Rest easy knowing your personal chats are protected with end-to-end encryption between Google Messages users, so no one (including Google and third parties) can read or view your messages and attachments except the person you’re messaging. Plus, enjoy advanced spam protection. \\r\\n        •        AI-Powered Messaging: Craft the perfect message with Magic Compose suggestions and our latest AI features.\\r\\n        •        Seamless Across Devices: Start a chat on your phone and continue it effortlessly on your tablet or computer. The app is also available on Wear OS.\\r\\n\\r\\nGoogle Messages is more than just messaging; it's a richer, safer, and more expressive way to connect.\\r\\n\\r\\nApp is also available on Wear OS. Availability of RCS varies by region and carrier and a data plan may be required. Availability of features varies by market and device and sign up for beta testing may be required.\",\n",
       " 'descriptionHTML': 'Google Messages is the official Google app for messaging. Google Messages is revolutionizing how a billion users connect and is powered by Rich Communication Services (RCS), the industry standard for texting that replaces SMS and MMS. With RCS, you can share high resolution photos and videos, enjoy dynamic group chats, and seamlessly connect with other RCS users including your iPhone friends. <br><br>        •        Rich Communication: Share high-quality photos and videos, see when friends are typing, and enjoy dynamic group chats that now seamlessly include your iPhone friends.<br>        •        Personal Touch: Make conversations uniquely yours with features like custom chat bubble colors or fun selfie gifs. <br>        •        Privacy Matters: Rest easy knowing your personal chats are protected with end-to-end encryption between Google Messages users, so no one (including Google and third parties) can read or view your messages and attachments except the person you’re messaging. Plus, enjoy advanced spam protection. <br>        •        AI-Powered Messaging: Craft the perfect message with Magic Compose suggestions and our latest AI features.<br>        •        Seamless Across Devices: Start a chat on your phone and continue it effortlessly on your tablet or computer. The app is also available on Wear OS.<br><br>Google Messages is more than just messaging; it&#39;s a richer, safer, and more expressive way to connect.<br><br>App is also available on Wear OS. Availability of RCS varies by region and carrier and a data plan may be required. Availability of features varies by market and device and sign up for beta testing may be required.',\n",
       " 'summary': 'Simple, helpful messaging by Google',\n",
       " 'installs': '5,000,000,000+',\n",
       " 'minInstalls': 5000000000,\n",
       " 'realInstalls': 8215413420,\n",
       " 'score': 4.536722,\n",
       " 'ratings': 25369959,\n",
       " 'reviews': 604652,\n",
       " 'histogram': [1392323, 470546, 1155620, 2461119, 19890328],\n",
       " 'price': 0,\n",
       " 'free': True,\n",
       " 'currency': 'USD',\n",
       " 'sale': False,\n",
       " 'saleTime': None,\n",
       " 'originalPrice': None,\n",
       " 'saleText': None,\n",
       " 'offersIAP': False,\n",
       " 'inAppProductPrice': None,\n",
       " 'developer': 'Google LLC',\n",
       " 'developerId': '5700313618786177705',\n",
       " 'developerEmail': 'apps-help@google.com',\n",
       " 'developerWebsite': None,\n",
       " 'developerAddress': '1600 Amphitheatre Parkway, Mountain View 94043',\n",
       " 'privacyPolicy': 'http://www.google.com/policies/privacy',\n",
       " 'genre': 'Communication',\n",
       " 'genreId': 'COMMUNICATION',\n",
       " 'categories': [{'name': 'Communication', 'id': 'COMMUNICATION'}],\n",
       " 'icon': 'https://play-lh.googleusercontent.com/9AZOTXU_CpreTFAXUPAmJNkm8VGCb1C90fjJ9pHGcVmpGMDSTq3cUbaQJdBT9Tdp9A',\n",
       " 'headerImage': 'https://play-lh.googleusercontent.com/lKAYJxxItJh0wtWqaDAHseZVjodpHkv1E3yXnCV6FoJh3nHNJNj6EQju6V40ZFWasJA',\n",
       " 'screenshots': ['https://play-lh.googleusercontent.com/SkBnhfwdRsqsODVnzBgB9Z7jBxNRKsctBERe0nl0BIOyCwnSzgc6EtqfgMSM1BVPag47',\n",
       "  'https://play-lh.googleusercontent.com/bs9liN00LCZRaa2wuniYuh8H1GQRUMmrJBM4XoZG0K-16tKV9X9INc0VwJaN7XRtOC9c',\n",
       "  'https://play-lh.googleusercontent.com/cQWrglTqO_P2KMcfgqPkSeXxfXkgaRk8eS8kB85wJMe2ANUr_oSBE5Tqatyi7KrJejU',\n",
       "  'https://play-lh.googleusercontent.com/E3vpd60Cn83sQjFDLqLkbyiTyy7rFrA7QIghOKO1SXrJtaPcaVpJiVf18sBCIzv_dSE',\n",
       "  'https://play-lh.googleusercontent.com/uxwUASGGxt0v_x6ty7PcpXRGWZF_1TRWWxpdkddxg0PFrKCQJyVXwXMfcLGhVb3xnbbE',\n",
       "  'https://play-lh.googleusercontent.com/3K0TSvCs4gNg6VzkroMZr_W5oc_BmhtrW9E4zKm5B3igGpVmd0JCWWt7K22_EnkJdA',\n",
       "  'https://play-lh.googleusercontent.com/tIpok7nhbn9av5FPkQnWvup9INUbZri039qlw04aC6nYi8E1MsfFutqxhpOHLww0t9A',\n",
       "  'https://play-lh.googleusercontent.com/myC4ggLXl7bqeCDwLv4dZgXsKumiHrKbEvqUE1xxSpQaqNe-xVJPiHR2mTkZCPhNRsHY',\n",
       "  'https://play-lh.googleusercontent.com/onfN925YJQW99KQrg0feJM2pClbc_TWBL6B5m7iFW5TUHtiqlSqwK-jBhKQfn-Iu',\n",
       "  'https://play-lh.googleusercontent.com/V9NjiBNeih8YEi_c49InC2FQu-NOIEpxpr11phIibKpoQn7zVT7-l4uoAQWb8tEMioo',\n",
       "  'https://play-lh.googleusercontent.com/H6T3SRJFSkrCq9Ty2_xjQxam-uEMIcIPrBh1idEKwBmt4VmJU3RrJMwK9qg9CQkb1bY',\n",
       "  'https://play-lh.googleusercontent.com/hINJgwKaxDuHOTA_ZHlBDCr2vNcH482iN4EaV4r8Bu5BMRfgTuiYZrMw0HzjZZDJNcg'],\n",
       " 'video': None,\n",
       " 'videoImage': None,\n",
       " 'contentRating': 'Everyone',\n",
       " 'contentRatingDescription': None,\n",
       " 'adSupported': False,\n",
       " 'containsAds': False,\n",
       " 'released': 'Nov 12, 2014',\n",
       " 'lastUpdatedOn': 'Jun 2, 2025',\n",
       " 'updated': 1748896136,\n",
       " 'version': 'Varies with device',\n",
       " 'comments': [],\n",
       " 'appId': 'com.google.android.apps.messaging',\n",
       " 'url': 'https://play.google.com/store/apps/details?id=com.google.android.apps.messaging&hl=en&gl=us'}"
      ]
     },
     "execution_count": 3,
     "metadata": {},
     "output_type": "execute_result"
    }
   ],
   "source": [
    "result"
   ]
  },
  {
   "cell_type": "code",
   "execution_count": null,
   "metadata": {
    "cellUniqueIdByVincent": "7ccac"
   },
   "outputs": [],
   "source": []
  }
 ],
 "metadata": {
  "kernelspec": {
   "display_name": "basangdata12",
   "language": "python",
   "name": "python3"
  },
  "language_info": {
   "codemirror_mode": {
    "name": "ipython",
    "version": 3
   },
   "file_extension": ".py",
   "mimetype": "text/x-python",
   "name": "python",
   "nbconvert_exporter": "python",
   "pygments_lexer": "ipython3",
   "version": "3.12.9"
  },
  "vincent": {
   "sessionId": "504022adc346854d3cf9526f_2025-06-05T11-16-32-287Z"
  }
 },
 "nbformat": 4,
 "nbformat_minor": 5
}
